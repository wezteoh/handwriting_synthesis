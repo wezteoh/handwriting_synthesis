{
 "cells": [
  {
   "cell_type": "code",
   "execution_count": 19,
   "metadata": {},
   "outputs": [],
   "source": [
    "# process dataset to split into 300 dpts chunks\n",
    "# split into train, val sets\n",
    "\n",
    "# use LSTM 2 layers, 400 units\n",
    "# output 5 parameters "
   ]
  },
  {
   "cell_type": "code",
   "execution_count": 20,
   "metadata": {},
   "outputs": [],
   "source": [
    "%matplotlib inline\n",
    "import numpy as np\n",
    "import matplotlib\n",
    "import sys "
   ]
  },
  {
   "cell_type": "code",
   "execution_count": 21,
   "metadata": {},
   "outputs": [],
   "source": [
    "# import pytorch modules\n",
    "import torch\n",
    "from torch.autograd import Variable\n",
    "import torch.nn as nn\n",
    "import torch.nn.functional as F\n",
    "import torch.optim as optim"
   ]
  },
  {
   "cell_type": "code",
   "execution_count": 22,
   "metadata": {},
   "outputs": [],
   "source": [
    "sys.path.insert(0,'..')\n",
    "from utils import plot_stroke"
   ]
  },
  {
   "cell_type": "code",
   "execution_count": 23,
   "metadata": {},
   "outputs": [],
   "source": [
    "# import data\n",
    "strokes = np.load('data/strokes.npy', encoding='latin1')\n",
    "with open('data/sentences.txt') as f:\n",
    "    texts = f.readlines()"
   ]
  },
  {
   "cell_type": "code",
   "execution_count": 24,
   "metadata": {},
   "outputs": [],
   "source": [
    "np.random.seed(42)\n",
    "np.random.shuffle(strokes)\n",
    "np.random.seed(42)\n",
    "np.random.shuffle(texts)"
   ]
  },
  {
   "cell_type": "code",
   "execution_count": 25,
   "metadata": {},
   "outputs": [],
   "source": [
    "# split data \n",
    "split = int(0.1*len(strokes))\n",
    "validation_strokes = strokes[:split]\n",
    "validation_texts = texts[:split]\n",
    "train_strokes = strokes[split:]\n",
    "train_texts = texts[split:]\n",
    "\n",
    "np.save('validation_strokes', validation_strokes)\n",
    "np.save('validation_texts', validation_texts)\n",
    "np.save('train_strokes', train_strokes)\n",
    "np.save('train_texts', train_texts)"
   ]
  },
  {
   "cell_type": "code",
   "execution_count": 26,
   "metadata": {},
   "outputs": [],
   "source": [
    "# generate 10 samples of (data_len) timesteps for each stroke in train_strokes\n",
    "np.random.seed(42)\n",
    "data_len = 300\n",
    "train_data = []\n",
    "for stroke in train_strokes:\n",
    "    for _ in range(10):\n",
    "        num = len(stroke)-data_len\n",
    "        start = np.random.choice(num)\n",
    "        seq = stroke[start:start+data_len]\n",
    "        train_data.append(seq)"
   ]
  },
  {
   "cell_type": "code",
   "execution_count": 27,
   "metadata": {},
   "outputs": [],
   "source": [
    "train_data = np.stack(train_data, axis = 0)\n",
    "np.save('train_data', train_data)"
   ]
  }
 ],
 "metadata": {
  "kernelspec": {
   "display_name": "Python 3",
   "language": "python",
   "name": "python3"
  },
  "language_info": {
   "codemirror_mode": {
    "name": "ipython",
    "version": 3
   },
   "file_extension": ".py",
   "mimetype": "text/x-python",
   "name": "python",
   "nbconvert_exporter": "python",
   "pygments_lexer": "ipython3",
   "version": "3.6.4"
  }
 },
 "nbformat": 4,
 "nbformat_minor": 2
}
